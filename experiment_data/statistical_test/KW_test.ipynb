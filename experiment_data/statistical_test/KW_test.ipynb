{
 "cells": [
  {
   "cell_type": "markdown",
   "metadata": {},
   "source": [
    "# Calculate t value of KW test"
   ]
  },
  {
   "cell_type": "code",
   "execution_count": 1,
   "metadata": {},
   "outputs": [],
   "source": [
    "import pandas as pd\n",
    "import os\n",
    "import numpy as np\n",
    "from scipy import stats\n",
    "import scikit_posthocs as sp"
   ]
  },
  {
   "cell_type": "code",
   "execution_count": 32,
   "metadata": {},
   "outputs": [],
   "source": [
    "#import file\n",
    "xlsx_path = \"result_masterthese/experiment_1-2.xlsx\"\n",
    "df = pd.read_excel(xlsx_path, header=0, index_col=0)\n",
    "\n",
    "#preprocess data\n",
    "num_gropup = df.shape[0]\n",
    "data = []\n",
    "for group in range(df.shape[0]):\n",
    "    data_group = []\n",
    "    for scale in range(df.shape[1]):\n",
    "        data_group += [(scale)+1 for i in range(df.iloc[group][scale])]\n",
    "    data.append(data_group)"
   ]
  },
  {
   "cell_type": "code",
   "execution_count": 16,
   "metadata": {},
   "outputs": [
    {
     "name": "stdout",
     "output_type": "stream",
     "text": [
      "KruskalResult(statistic=46.0090297592045, pvalue=2.9483229082166908e-08)\n"
     ]
    }
   ],
   "source": [
    "#Kruskal-Wallis (KW) test\n",
    "result = stats.kruskal(*data)\n",
    "print(result)"
   ]
  },
  {
   "cell_type": "code",
   "execution_count": 33,
   "metadata": {},
   "outputs": [
    {
     "data": {
      "text/html": [
       "<div>\n",
       "<style scoped>\n",
       "    .dataframe tbody tr th:only-of-type {\n",
       "        vertical-align: middle;\n",
       "    }\n",
       "\n",
       "    .dataframe tbody tr th {\n",
       "        vertical-align: top;\n",
       "    }\n",
       "\n",
       "    .dataframe thead th {\n",
       "        text-align: right;\n",
       "    }\n",
       "</style>\n",
       "<table border=\"1\" class=\"dataframe\">\n",
       "  <thead>\n",
       "    <tr style=\"text-align: right;\">\n",
       "      <th></th>\n",
       "      <th>LDM jazz and classical</th>\n",
       "      <th>Agent A before MHNG</th>\n",
       "      <th>Agent B before MHNG</th>\n",
       "      <th>Agent A non finetuning</th>\n",
       "      <th>Agent B non finetuning</th>\n",
       "      <th>Agent A 10 MHNG</th>\n",
       "      <th>Ahent B 10 MHNG</th>\n",
       "    </tr>\n",
       "  </thead>\n",
       "  <tbody>\n",
       "    <tr>\n",
       "      <th>LDM jazz and classical</th>\n",
       "      <td>1.000000</td>\n",
       "      <td>6.415979e-03</td>\n",
       "      <td>0.443941</td>\n",
       "      <td>2.026081e-03</td>\n",
       "      <td>0.988388</td>\n",
       "      <td>0.996472</td>\n",
       "      <td>0.979657</td>\n",
       "    </tr>\n",
       "    <tr>\n",
       "      <th>Agent A before MHNG</th>\n",
       "      <td>0.006416</td>\n",
       "      <td>1.000000e+00</td>\n",
       "      <td>0.000010</td>\n",
       "      <td>2.101493e-10</td>\n",
       "      <td>0.001330</td>\n",
       "      <td>0.013530</td>\n",
       "      <td>0.000145</td>\n",
       "    </tr>\n",
       "    <tr>\n",
       "      <th>Agent B before MHNG</th>\n",
       "      <td>0.443941</td>\n",
       "      <td>1.012834e-05</td>\n",
       "      <td>1.000000</td>\n",
       "      <td>5.666233e-01</td>\n",
       "      <td>0.930365</td>\n",
       "      <td>0.134447</td>\n",
       "      <td>0.927398</td>\n",
       "    </tr>\n",
       "    <tr>\n",
       "      <th>Agent A non finetuning</th>\n",
       "      <td>0.002026</td>\n",
       "      <td>2.101493e-10</td>\n",
       "      <td>0.566623</td>\n",
       "      <td>1.000000e+00</td>\n",
       "      <td>0.061214</td>\n",
       "      <td>0.000074</td>\n",
       "      <td>0.036386</td>\n",
       "    </tr>\n",
       "    <tr>\n",
       "      <th>Agent B non finetuning</th>\n",
       "      <td>0.988388</td>\n",
       "      <td>1.330492e-03</td>\n",
       "      <td>0.930365</td>\n",
       "      <td>6.121405e-02</td>\n",
       "      <td>1.000000</td>\n",
       "      <td>0.845550</td>\n",
       "      <td>1.000000</td>\n",
       "    </tr>\n",
       "    <tr>\n",
       "      <th>Agent A 10 MHNG</th>\n",
       "      <td>0.996472</td>\n",
       "      <td>1.353040e-02</td>\n",
       "      <td>0.134447</td>\n",
       "      <td>7.371920e-05</td>\n",
       "      <td>0.845550</td>\n",
       "      <td>1.000000</td>\n",
       "      <td>0.748422</td>\n",
       "    </tr>\n",
       "    <tr>\n",
       "      <th>Ahent B 10 MHNG</th>\n",
       "      <td>0.979657</td>\n",
       "      <td>1.447292e-04</td>\n",
       "      <td>0.927398</td>\n",
       "      <td>3.638632e-02</td>\n",
       "      <td>1.000000</td>\n",
       "      <td>0.748422</td>\n",
       "      <td>1.000000</td>\n",
       "    </tr>\n",
       "  </tbody>\n",
       "</table>\n",
       "</div>"
      ],
      "text/plain": [
       "                        LDM jazz and classical  Agent A before MHNG   \n",
       "LDM jazz and classical                1.000000         6.415979e-03  \\\n",
       "Agent A before MHNG                   0.006416         1.000000e+00   \n",
       "Agent B before MHNG                   0.443941         1.012834e-05   \n",
       "Agent A non finetuning                0.002026         2.101493e-10   \n",
       "Agent B non finetuning                0.988388         1.330492e-03   \n",
       "Agent A 10 MHNG                       0.996472         1.353040e-02   \n",
       "Ahent B 10 MHNG                       0.979657         1.447292e-04   \n",
       "\n",
       "                        Agent B before MHNG  Agent A non finetuning   \n",
       "LDM jazz and classical             0.443941            2.026081e-03  \\\n",
       "Agent A before MHNG                0.000010            2.101493e-10   \n",
       "Agent B before MHNG                1.000000            5.666233e-01   \n",
       "Agent A non finetuning             0.566623            1.000000e+00   \n",
       "Agent B non finetuning             0.930365            6.121405e-02   \n",
       "Agent A 10 MHNG                    0.134447            7.371920e-05   \n",
       "Ahent B 10 MHNG                    0.927398            3.638632e-02   \n",
       "\n",
       "                        Agent B non finetuning  Agent A 10 MHNG   \n",
       "LDM jazz and classical                0.988388         0.996472  \\\n",
       "Agent A before MHNG                   0.001330         0.013530   \n",
       "Agent B before MHNG                   0.930365         0.134447   \n",
       "Agent A non finetuning                0.061214         0.000074   \n",
       "Agent B non finetuning                1.000000         0.845550   \n",
       "Agent A 10 MHNG                       0.845550         1.000000   \n",
       "Ahent B 10 MHNG                       1.000000         0.748422   \n",
       "\n",
       "                        Ahent B 10 MHNG  \n",
       "LDM jazz and classical         0.979657  \n",
       "Agent A before MHNG            0.000145  \n",
       "Agent B before MHNG            0.927398  \n",
       "Agent A non finetuning         0.036386  \n",
       "Agent B non finetuning         1.000000  \n",
       "Agent A 10 MHNG                0.748422  \n",
       "Ahent B 10 MHNG                1.000000  "
      ]
     },
     "execution_count": 33,
     "metadata": {},
     "output_type": "execute_result"
    }
   ],
   "source": [
    "#Dwass-Steel-Critchlow-Fligner (DSCF) method\n",
    "key = df.index\n",
    "data_for_kw = pd.DataFrame({key[i]:data[i] for i in range(len(data))})\n",
    "data_for_kw = data_for_kw.melt(var_name='groups', value_name='values')\n",
    "result = sp.posthoc_dscf(data_for_kw, val_col='values', group_col='groups')\n",
    "result = result\n",
    "result"
   ]
  },
  {
   "cell_type": "code",
   "execution_count": 30,
   "metadata": {},
   "outputs": [
    {
     "name": "stdout",
     "output_type": "stream",
     "text": [
      "&クラシック+ジャズ&1.000&0.941&0.254&0.015&1.000&0.109&1.000\\\\\n",
      "&クラシック&0.941&1.000&0.021&0.001&0.946&0.772&0.887\\\\\n",
      "&ジャズ&0.254&0.021&1.000&0.729&0.207&0.0&0.481\\\\\n",
      "&non fine-tuning Agent A&0.015&0.001&0.729&1.000&0.01&0.0&0.043\\\\\n",
      "&non fine-tuning Agent B&1.000&0.946&0.207&0.01&1.000&0.105&1.000\\\\\n",
      "&Agent A&0.109&0.772&0.0&0.0&0.105&1.000&0.093\\\\\n",
      "&Agent B&1.000&0.887&0.481&0.043&1.000&0.093&1.000\\\\\n"
     ]
    }
   ],
   "source": [
    "\"latex output\"\n",
    "key =[\"&クラシック+ジャズ&\",\"&クラシック&\",\"&ジャズ&\",\"&non fine-tuning Agent A&\",\"&non fine-tuning Agent B&\",\"&Agent A&\",\"&Agent B&\"]\n",
    "for i in range(len(result.values)):\n",
    "    array = key[i]\n",
    "    for j in range(len(result.values[i])):\n",
    "        if result.values[i][j] == 1.0:\n",
    "            array += \"1.000&\"\n",
    "        else:\n",
    "            array += str(result.values[i][j]) + \"&\"\n",
    "    array = array[:-1] + \"\\\\\\\\\"\n",
    "    print(array)"
   ]
  },
  {
   "cell_type": "code",
   "execution_count": 10,
   "metadata": {},
   "outputs": [],
   "source": [
    "#save result\n",
    "result_dir = \"test_result/masterthese\"\n",
    "result_path = f\"{result_dir}/1-1.xlsx\"\n",
    "os.makedirs(result_dir, exist_ok=True)\n",
    "result.to_excel(result_path)"
   ]
  }
 ],
 "metadata": {
  "kernelspec": {
   "display_name": "Python 3",
   "language": "python",
   "name": "python3"
  },
  "language_info": {
   "codemirror_mode": {
    "name": "ipython",
    "version": 3
   },
   "file_extension": ".py",
   "mimetype": "text/x-python",
   "name": "python",
   "nbconvert_exporter": "python",
   "pygments_lexer": "ipython3",
   "version": "3.10.0"
  }
 },
 "nbformat": 4,
 "nbformat_minor": 2
}
