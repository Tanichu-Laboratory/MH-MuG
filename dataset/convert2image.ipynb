{
 "cells": [
  {
   "cell_type": "markdown",
   "metadata": {},
   "source": [
    "# Generate image(piano roll) data from dataset"
   ]
  },
  {
   "cell_type": "code",
   "execution_count": 6,
   "metadata": {},
   "outputs": [],
   "source": [
    "import numpy as np\n",
    "import glob\n",
    "import cv2\n",
    "import os\n",
    "from typing import List\n",
    "from tqdm import tqdm"
   ]
  },
  {
   "cell_type": "code",
   "execution_count": null,
   "metadata": {},
   "outputs": [],
   "source": [
    "def generate_image(\n",
    "        path: str, \n",
    "        file_name: str, \n",
    "        instrument: List[str],\n",
    "        data_concat: bool):\n",
    "    \"\"\"\n",
    "    convert to image\n",
    "\n",
    "    params\n",
    "    ------\n",
    "    path: str\n",
    "        image data path\n",
    "    file_name: str\n",
    "        save file name\n",
    "    instrument: List[str]\n",
    "        instrument name\n",
    "    data_concat: bool\n",
    "        concat all instruments or not\n",
    "    \"\"\"\n",
    "    #load data\n",
    "    data_orig = np.load(path, allow_pickle=True).item()\n",
    "    #convert to image\n",
    "    data = []\n",
    "    for key in instrument:\n",
    "        data.append(data_orig[key][0].T+1)\n",
    "    if data_concat:\n",
    "        data_tmp = data[0]\n",
    "        if len(data) > 1:\n",
    "            for i in range(1, len(data)):\n",
    "                data_tmp += data[i]\n",
    "        data = data_tmp.clip(0, 1)\n",
    "        data = data*255\n",
    "    else:\n",
    "        data = np.concatenate(data)*255\n",
    "    data = np.array([data, data, data]).transpose(1,2,0)\n",
    "    cv2.imwrite(file_name, data)\n",
    "            \n"
   ]
  },
  {
   "cell_type": "code",
   "execution_count": null,
   "metadata": {},
   "outputs": [],
   "source": [
    "#get data path\n",
    "data_name = \"classical_jazz_1024_background_labeled\" #入力データ名\n",
    "train_path = sorted(glob.glob(f\"data/npy/{data_name}/train/*\"))\n",
    "validation_path = sorted(glob.glob(f\"data/npy/{data_name}/val/*\"))\n",
    "test_path = sorted(glob.glob(f\"data/npy/{data_name}/test/*\"))\n",
    "#パラメータ\n",
    "instrument = [\"midi\"]\n",
    "image_dir = f\"data/img/{data_name}\"\n",
    "data_concat = True #True: concat all instruments, False: not concat\n",
    "os.makedirs(image_dir, exist_ok=True)\n",
    "os.makedirs(f\"{image_dir}/train\", exist_ok=True)\n",
    "os.makedirs(f\"{image_dir}/val\", exist_ok=True)\n",
    "os.makedirs(f\"{image_dir}/test\", exist_ok=True)"
   ]
  },
  {
   "cell_type": "code",
   "execution_count": null,
   "metadata": {},
   "outputs": [
    {
     "name": "stderr",
     "output_type": "stream",
     "text": [
      "convert train data: 100%|██████████| 2022/2022 [00:16<00:00, 122.46it/s]\n",
      "convert validation data: 100%|██████████| 335/335 [00:02<00:00, 125.43it/s]\n",
      "convert test data: 100%|██████████| 139/139 [00:01<00:00, 121.26it/s]\n"
     ]
    }
   ],
   "source": [
    "#convert to image\n",
    "for i in tqdm(range(len(train_path)),desc=\"convert train data\"):\n",
    "    file_name = f\"{image_dir}/train/{i:04d}.jpg\"\n",
    "    generate_image(train_path[i], file_name, instrument, data_concat)\n",
    "for i in tqdm(range(len(validation_path)),desc=\"convert validation data\"):\n",
    "    file_name = f\"{image_dir}/val/{i:04d}.jpg\"\n",
    "    generate_image(validation_path[i], file_name, instrument, data_concat)\n",
    "for i in tqdm(range(len(test_path)),desc=\"convert test data\"):\n",
    "    file_name = f\"{image_dir}/test/{i:04d}.jpg\"\n",
    "    generate_image(test_path[i], file_name, instrument, data_concat)"
   ]
  }
 ],
 "metadata": {
  "kernelspec": {
   "display_name": "Python 3",
   "language": "python",
   "name": "python3"
  },
  "language_info": {
   "codemirror_mode": {
    "name": "ipython",
    "version": 3
   },
   "file_extension": ".py",
   "mimetype": "text/x-python",
   "name": "python",
   "nbconvert_exporter": "python",
   "pygments_lexer": "ipython3",
   "version": "3.10.12"
  }
 },
 "nbformat": 4,
 "nbformat_minor": 2
}
