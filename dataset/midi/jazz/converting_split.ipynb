{
 "cells": [
  {
   "cell_type": "markdown",
   "metadata": {},
   "source": [
    "# Diffusion用の前処理 発音時をチャンネル1, 伸びている状態をチャンネル2にする"
   ]
  },
  {
   "cell_type": "code",
   "execution_count": 1,
   "metadata": {},
   "outputs": [],
   "source": [
    "import numpy as np\n",
    "import pretty_midi\n",
    "import pandas as pd\n",
    "import collections\n",
    "import glob\n",
    "import os\n",
    "import random\n",
    "from tqdm import tqdm"
   ]
  },
  {
   "cell_type": "code",
   "execution_count": 2,
   "metadata": {},
   "outputs": [],
   "source": [
    "def convert_midi(path, time_step, instrument_number, transpote_C, input_chord, chord, extention=1):\n",
    "    \"\"\"\n",
    "    midiデータをond-hot-vectorに変換\n",
    "    \n",
    "    params\n",
    "    ---------\n",
    "    path: list\n",
    "        midiデータのパス\n",
    "    time_step: int\n",
    "        分ける音符の種類\n",
    "    instrument_number: int \n",
    "        midiファイルのインストルメント(トラック)数\n",
    "    transpote_C: bool\n",
    "        C調に移調するか\n",
    "    input_chord: bool\n",
    "        コードを入れるか\n",
    "    return_chords: list\n",
    "        コード（移調時に必要）\n",
    "    extention: float\n",
    "        テンポ120に合わせるときに伸ばす音の長さの倍数\n",
    "    \n",
    "    returns\n",
    "    ---------\n",
    "    midi_vector: list\n",
    "        変換後のデータ(各配列はnumpy.ndarray)\n",
    "    return_chords: list\n",
    "        one-hot vectorに変換したコードデータ（移調しない場合は入力と変わらない）\n",
    "    \"\"\"\n",
    "    #初期化\n",
    "    midi = [] #各midiデータ\n",
    "    tempo = np.zeros(len(path)) #テンポ\n",
    "    midi_vector = [] #ベクトルに変換したmidiデータ\n",
    "    return_chords = chord.copy()\n",
    "    \n",
    "    #midiデータ全体を格納\n",
    "    for i in tqdm(range(len(path)), \"data input\"):\n",
    "        midi.append(pretty_midi.PrettyMIDI(path[i]))\n",
    "        tempo[i] = midi[i].get_tempo_changes()[1]\n",
    "        #テンポを整数に四捨五入\n",
    "        if tempo[i] - int(tempo[i]) >= 0.5:\n",
    "            tempo[i] = int(tempo[i] + 1)\n",
    "        else:\n",
    "            tempo[i] = int(tempo[i])\n",
    "                \n",
    "    #分割せず変換する\n",
    "    for i in tqdm(range(len(path)), desc='convert midi'):\n",
    "        split = 60/(tempo[i]*time_step/4) #分割するためのパラメータ\n",
    "        if extention != 1:\n",
    "            split = split/extention\n",
    "        #曲の長さを調べる\n",
    "        length = []\n",
    "        for n in range(instrument_number):\n",
    "            melody_tmps = midi[i].instruments[n].notes\n",
    "            vector_length = int(melody_tmps[-1].end/split) +1\n",
    "            length.append(vector_length)\n",
    "        vector_length = max(length) #曲の長さ\n",
    "        #音を入れる\n",
    "        midi_vector_tmp = [] #１曲分のベクトルに変換したデータ\n",
    "        for n in range(instrument_number):\n",
    "            #ベクトルに変換\n",
    "            melody_tmps = midi[i].instruments[n].notes#音の情報の一時保存用のパラメータ\n",
    "            melody_midi_tmp = np.zeros((2, vector_length, 88)) #分割前のベクトル\n",
    "            for melody_tmp in melody_tmps:\n",
    "                #音の情報\n",
    "                start = int(melody_tmp.start/split)\n",
    "                end = int(melody_tmp.end/split)\n",
    "                if (melody_tmp.end/split)-end >= 0.5:\n",
    "                    end += 1\n",
    "                pitch = melody_tmp.pitch -21    \n",
    "                \n",
    "                #入力\n",
    "                for k in range(start, end):\n",
    "                    if k == start:\n",
    "                        melody_midi_tmp[0][k][pitch] = 1\n",
    "                    else:\n",
    "                        melody_midi_tmp[1][k][pitch] = 1\n",
    "            midi_vector_tmp.append(melody_midi_tmp)\n",
    "        midi_vector.append(midi_vector_tmp)\n",
    "    \n",
    "    return midi_vector, return_chords\n",
    "    "
   ]
  },
  {
   "cell_type": "code",
   "execution_count": 3,
   "metadata": {},
   "outputs": [],
   "source": [
    "def convert_to_midi(vector, note_split):\n",
    "    \"\"\"\n",
    "    midiに変換\n",
    "    \n",
    "    params\n",
    "    -------------\n",
    "    vector: numpy.ndarray\n",
    "        変換するmany-hot vector(チャンネル数, 長さ, 88)\n",
    "    note_split: int\n",
    "        分割する音符の種類\n",
    "    \n",
    "    returns\n",
    "    ---------\n",
    "    piano: object\n",
    "        midi_instrumentデータ\n",
    "    \"\"\"\n",
    "    \n",
    "    shapes = vector.shape\n",
    "    instrument_name = pretty_midi.instrument_name_to_program('Acoustic Grand Piano')\n",
    "    piano = pretty_midi.Instrument(program=instrument_name)\n",
    "\n",
    "    #パラメータ\n",
    "    start_time = 0.0\n",
    "    end_time = 0.0\n",
    "    tempo = 120\n",
    "    time_split = 60/(tempo*note_split/4)\n",
    "\n",
    "    #ノートを追加\n",
    "    for p in range(shapes[-1]):\n",
    "        start_time = 0.0\n",
    "        end_time = 0.0\n",
    "        durting = False #音が伸びているかどうか\n",
    "        on = 0 #音が鳴っているかどうか\n",
    "        for t in range(shapes[-2]):\n",
    "            if not durting:\n",
    "                on = int(round(vector[0][t][p]))\n",
    "            end_time += time_split\n",
    "    \n",
    "            #次の時間において伸びているかの処理\n",
    "            if on > 0:\n",
    "                if t != shapes[-2]-1:\n",
    "                    sutain = int(round(vector[1][t+1][p]))\n",
    "                    if sutain > 0:\n",
    "                        durting = True\n",
    "                        continue\n",
    "                    else:\n",
    "                        durting = False\n",
    "            else:\n",
    "                start_time = end_time\n",
    "                durting = False\n",
    "                continue      \n",
    "    \n",
    "            #音符を追加\n",
    "            note = pretty_midi.Note(\n",
    "                velocity=70,\n",
    "                pitch=int(p+21),\n",
    "                start=start_time, \n",
    "                end=end_time\n",
    "            )\n",
    "            piano.notes.append(note)\n",
    "            start_time = end_time\n",
    "    \n",
    "    return piano"
   ]
  },
  {
   "cell_type": "code",
   "execution_count": 4,
   "metadata": {},
   "outputs": [],
   "source": [
    "#midiファイル名取得\n",
    "path = [\"001.mid\"]\n",
    "output_dir = \"0000.mid\"\n",
    "\n",
    "#パラメータ\n",
    "chord_dir = \"chord_min_ver2.xlsx\" #コードのファイル名（xlsxファイル)\n",
    "input_chord = False #コード進行を入れるか\n",
    "time_step = 16 #分割する音符\n",
    "bar = 8 #何小節毎に分けるか\n",
    "split_number = time_step*bar\n",
    "instrument_number = 2 #midiファイルのインストルメント(トラック)数. (例）片手なら1, 右手左手を使うなら2\n",
    "transpote_C = False #C調に移調するか\n",
    "end_reduce = False #最後の音符を削除するか\n",
    "observation_names = ['right', \"left\"] #保存する各observation(instrument)の名前\n",
    "\n",
    "#各インストルメントの名前の数とトラック数が一致していなければ警告を出す\n",
    "if len(observation_names) != instrument_number:\n",
    "    print(\"WARING: 'instrument_number'と'obsevation_names'の数が一致していないため、正しくデータが入力されないです\")"
   ]
  },
  {
   "cell_type": "code",
   "execution_count": 35,
   "metadata": {},
   "outputs": [
    {
     "name": "stderr",
     "output_type": "stream",
     "text": [
      "data input: 100%|██████████| 1/1 [00:00<00:00, 15.36it/s]\n",
      "convert midi: 100%|██████████| 1/1 [00:00<00:00, 122.19it/s]\n"
     ]
    }
   ],
   "source": [
    "extention = 1 #テンポ120に合わせるときに伸ばす音の長さの倍数\n",
    "#コードを読み込む\n",
    "chords = []\n",
    "\n",
    "#midiデータを読み込む\n",
    "midi_tmp, chords = convert_midi(path, time_step, instrument_number, transpote_C, input_chord, chords, extention=extention)\n",
    "\n",
    "midi = pretty_midi.PrettyMIDI()\n",
    "    \n",
    "#データ変換\n",
    "instrument = []\n",
    "\n",
    "for n in range(len(midi_tmp[0])):\n",
    "    instrument.append(convert_to_midi(midi_tmp[0][n], time_step))\n",
    "    \n",
    "#instrument追加\n",
    "for n in range(len(midi_tmp[0])):\n",
    "    midi.instruments.append(instrument[n])\n",
    "    \n",
    "#書き込み\n",
    "wirte_title = output_dir\n",
    "midi.write(wirte_title)"
   ]
  },
  {
   "cell_type": "code",
   "execution_count": 19,
   "metadata": {},
   "outputs": [
    {
     "data": {
      "text/plain": [
       "[[array([[[0., 0., 0., 0., 0., 0., 0., 0., 0., 0., 0., 0., 0., 0., 0., 0.,\n",
       "           0., 0., 0., 0., 0., 0., 0., 0., 0., 0., 0., 0., 0., 0., 0., 0.,\n",
       "           0., 0., 0., 0., 0., 0., 0., 0., 0., 0., 0., 0., 0., 0., 0., 0.,\n",
       "           0., 0., 0., 0., 0., 0., 0., 0., 0., 0., 0., 0., 0., 0., 0., 0.,\n",
       "           0., 0., 0., 0., 0., 0., 0., 0., 0., 0., 0., 0., 0., 0., 0., 0.,\n",
       "           0., 0., 0., 0., 0., 0., 0., 0.]],\n",
       "  \n",
       "         [[0., 0., 0., 0., 0., 0., 0., 0., 0., 0., 0., 0., 0., 0., 0., 0.,\n",
       "           0., 0., 0., 0., 0., 0., 0., 0., 0., 0., 0., 0., 0., 0., 0., 0.,\n",
       "           0., 0., 0., 0., 0., 0., 0., 0., 0., 0., 0., 0., 0., 0., 0., 0.,\n",
       "           0., 0., 0., 0., 0., 0., 0., 0., 0., 0., 0., 0., 0., 0., 0., 0.,\n",
       "           0., 0., 0., 0., 0., 0., 0., 0., 0., 0., 0., 0., 0., 0., 0., 0.,\n",
       "           0., 0., 0., 0., 0., 0., 0., 0.]]]),\n",
       "  array([[[0., 0., 0., 0., 0., 0., 0., 0., 0., 0., 0., 0., 0., 0., 0., 0.,\n",
       "           0., 0., 0., 0., 0., 0., 0., 0., 0., 0., 0., 0., 0., 0., 0., 0.,\n",
       "           0., 0., 0., 0., 0., 0., 0., 0., 0., 0., 0., 0., 0., 0., 0., 0.,\n",
       "           0., 0., 0., 0., 0., 0., 0., 0., 0., 0., 0., 0., 0., 0., 0., 0.,\n",
       "           0., 0., 0., 0., 0., 0., 0., 0., 0., 0., 0., 0., 0., 0., 0., 0.,\n",
       "           0., 0., 0., 0., 0., 0., 0., 0.]],\n",
       "  \n",
       "         [[0., 0., 0., 0., 0., 0., 0., 0., 0., 0., 0., 0., 0., 0., 0., 0.,\n",
       "           0., 0., 0., 0., 0., 0., 0., 0., 0., 0., 0., 0., 0., 0., 0., 0.,\n",
       "           0., 0., 0., 0., 0., 0., 0., 0., 0., 0., 0., 0., 0., 0., 0., 0.,\n",
       "           0., 0., 0., 0., 0., 0., 0., 0., 0., 0., 0., 0., 0., 0., 0., 0.,\n",
       "           0., 0., 0., 0., 0., 0., 0., 0., 0., 0., 0., 0., 0., 0., 0., 0.,\n",
       "           0., 0., 0., 0., 0., 0., 0., 0.]]])]]"
      ]
     },
     "execution_count": 19,
     "metadata": {},
     "output_type": "execute_result"
    }
   ],
   "source": [
    "midi_tmp"
   ]
  },
  {
   "cell_type": "code",
   "execution_count": 28,
   "metadata": {},
   "outputs": [
    {
     "data": {
      "text/plain": [
       "3"
      ]
     },
     "execution_count": 28,
     "metadata": {},
     "output_type": "execute_result"
    }
   ],
   "source": [
    "len(file_title)"
   ]
  },
  {
   "cell_type": "code",
   "execution_count": 12,
   "metadata": {},
   "outputs": [
    {
     "data": {
      "text/plain": [
       "'Generate Die_Lorelei, folk, C, major, innocent, happy, pure, and pop song.'"
      ]
     },
     "execution_count": 12,
     "metadata": {},
     "output_type": "execute_result"
    }
   ],
   "source": [
    "save_dict[\"text\"]"
   ]
  },
  {
   "cell_type": "code",
   "execution_count": null,
   "metadata": {},
   "outputs": [],
   "source": []
  }
 ],
 "metadata": {
  "kernelspec": {
   "display_name": "Python 3",
   "language": "python",
   "name": "python3"
  },
  "language_info": {
   "codemirror_mode": {
    "name": "ipython",
    "version": 3
   },
   "file_extension": ".py",
   "mimetype": "text/x-python",
   "name": "python",
   "nbconvert_exporter": "python",
   "pygments_lexer": "ipython3",
   "version": "3.7.6"
  }
 },
 "nbformat": 4,
 "nbformat_minor": 4
}
