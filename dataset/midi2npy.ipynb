{
 "cells": [
  {
   "cell_type": "code",
   "execution_count": 1,
   "metadata": {},
   "outputs": [],
   "source": [
    "import numpy as np\n",
    "import pretty_midi\n",
    "import glob\n",
    "import os\n",
    "import random\n",
    "from tqdm import tqdm"
   ]
  },
  {
   "cell_type": "code",
   "execution_count": null,
   "metadata": {},
   "outputs": [],
   "source": [
    "def convert_midi(path, time_step):\n",
    "    \"\"\"\n",
    "    convert midi data to vector\n",
    "    \n",
    "    params\n",
    "    ---------\n",
    "    path: list\n",
    "        midi data path\n",
    "    time_step: int\n",
    "        time step of note\n",
    "    \n",
    "    returns\n",
    "    ---------\n",
    "    midi_vector: list\n",
    "        converted midi\n",
    "    \"\"\"\n",
    "    #initialize\n",
    "    midi = [] #midi data\n",
    "    tempo = np.zeros(len(path)) #tempo\n",
    "    midi_vector = [] #converted midi\n",
    "    \n",
    "    #load midi data\n",
    "    for i in tqdm(range(len(path)), \"data input\"):\n",
    "        midi.append(pretty_midi.PrettyMIDI(path[i]))\n",
    "        tempo_tmp = midi[i].get_tempo_changes()[1]\n",
    "        if len(tempo_tmp) > 0:\n",
    "            tempo[i] = tempo_tmp[0]\n",
    "        else:\n",
    "            tempo[i] = tempo_tmp\n",
    "        #round tempo\n",
    "        if tempo[i] - int(tempo[i]) >= 0.5:\n",
    "            tempo[i] = int(tempo[i] + 1)\n",
    "        else:\n",
    "            tempo[i] = int(tempo[i])\n",
    "                \n",
    "    #convert midi data\n",
    "    for i in tqdm(range(len(path)), desc='convert midi'):\n",
    "        split = 60/(tempo[i]*time_step/4)\n",
    "        length = []\n",
    "        instrument_number = len(midi[i].instruments)\n",
    "        for n in range(instrument_number):\n",
    "            melody_tmps = midi[i].instruments[n].notes\n",
    "            vector_length = int(melody_tmps[-1].end/split) +1\n",
    "            length.append(vector_length)\n",
    "        vector_length = max(length)\n",
    "        midi_vector_tmp = np.zeros((3, vector_length, 128)) #data of 1 song\n",
    "        for n in range(instrument_number):\n",
    "            melody_tmps = midi[i].instruments[n].notes\n",
    "            for melody_tmp in melody_tmps:\n",
    "                start = int(melody_tmp.start/split)\n",
    "                end = int(melody_tmp.end/split)\n",
    "                pitch = melody_tmp.pitch  \n",
    "                #split time step\n",
    "                for k in range(start, end):\n",
    "                    midi_vector_tmp[0][k][pitch] = 70\n",
    "                    if k == start:\n",
    "                        midi_vector_tmp[1][k][pitch] = 70\n",
    "        midi_vector_tmp = (midi_vector_tmp/63.5)-1\n",
    "        midi_vector.append(midi_vector_tmp)\n",
    "    \n",
    "    return midi_vector\n",
    "    "
   ]
  },
  {
   "cell_type": "code",
   "execution_count": null,
   "metadata": {},
   "outputs": [],
   "source": [
    "def split_bar(data, split_number, texts):\n",
    "    \"\"\"\n",
    "    split midi data per bar\n",
    "\n",
    "    params\n",
    "    ---------\n",
    "    data: list \n",
    "        midi\n",
    "    split_number: int \n",
    "        split number of bar\n",
    "    texts: list \n",
    "        text data\n",
    "\n",
    "    returns\n",
    "    ---------\n",
    "    split_data: list \n",
    "    splited_texts: list\n",
    "    \"\"\"\n",
    "    split_data = []\n",
    "    splited_texts = []\n",
    "    for d_idx, d in enumerate(data):\n",
    "        length = d.shape[1]\n",
    "        num_data = int(length/split_number)\n",
    "        tmp = d.transpose(1, 0, 2)\n",
    "        for i in range(num_data):\n",
    "            split_data.append(tmp[i*split_number:(i+1)*split_number].transpose(1, 0, 2))\n",
    "            splited_texts.append(texts[d_idx])\n",
    "    \n",
    "    return split_data, splited_texts"
   ]
  },
  {
   "cell_type": "code",
   "execution_count": null,
   "metadata": {},
   "outputs": [],
   "source": [
    "def save_data(data, texts, dict_path):\n",
    "    #save data\n",
    "    for i in tqdm(range(len(data)) ,desc=f\"save to {dict_path}\"):\n",
    "        save_dict = {\"midi\": data[i], \"text\": texts[i]}\n",
    "        number = str(i).zfill(len(str(len(data)))+1)\n",
    "        np.save(f\"{dict_path}/{number}.npy\", save_dict)"
   ]
  },
  {
   "cell_type": "code",
   "execution_count": null,
   "metadata": {},
   "outputs": [],
   "source": [
    "#get midi data path\n",
    "directory = \"midi/jazz\"\n",
    "path = sorted(glob.glob(f\"{directory}/*/*.mid*\"))\n",
    "\n",
    "#get text data\n",
    "use_text = True\n",
    "text_path = \"data/labels/cultural_background/jazz.txt\"\n",
    "texts = []\n",
    "if use_text:\n",
    "    with open(text_path) as f:\n",
    "        texts = f.readlines()\n",
    "        texts = [t.replace(\"\\n\", \"\") for t in texts]\n",
    "else:\n",
    "    texts = [None]*len(path)\n",
    "    \n",
    "#params\n",
    "time_step = 128 #split time step of note\n",
    "bar = 8 #split number of bar\n",
    "split_number = time_step*bar\n",
    "\n",
    "#split train, validation and test data\n",
    "train_path = path[:int(len(path)*0.8)]\n",
    "train_texts = texts[:int(len(path)*0.8)]\n",
    "val_path = path[int(len(path)*0.8):-5]\n",
    "val_texts = texts[int(len(path)*0.8):-5]\n",
    "test_path = path[-5:]\n",
    "test_text = texts[-5:]"
   ]
  },
  {
   "cell_type": "code",
   "execution_count": null,
   "metadata": {},
   "outputs": [
    {
     "name": "stderr",
     "output_type": "stream",
     "text": [
      "data input: 100%|██████████| 80/80 [00:03<00:00, 21.42it/s]\n",
      "convert midi: 100%|██████████| 80/80 [00:03<00:00, 21.51it/s]\n",
      "data input: 100%|██████████| 15/15 [00:00<00:00, 29.77it/s]\n",
      "convert midi: 100%|██████████| 15/15 [00:00<00:00, 34.26it/s]\n",
      "data input: 100%|██████████| 5/5 [00:00<00:00, 22.72it/s]\n",
      "convert midi: 100%|██████████| 5/5 [00:00<00:00, 24.19it/s]"
     ]
    },
    {
     "name": "stdout",
     "output_type": "stream",
     "text": [
      "総データ数1229\n",
      "trainデータ数1003, valデータ数152, testデータ数74\n"
     ]
    },
    {
     "name": "stderr",
     "output_type": "stream",
     "text": [
      "\n"
     ]
    }
   ],
   "source": [
    "#load midi data\n",
    "midi_train = convert_midi(train_path, time_step)\n",
    "midi_val = convert_midi(val_path, time_step)\n",
    "midi_test = convert_midi(test_path, time_step)\n",
    "\n",
    "#split midi data per bar\n",
    "midi_train, train_texts_splited = split_bar(midi_train, split_number, train_texts)\n",
    "midi_val, val_texts_splited = split_bar(midi_val, split_number, val_texts)\n",
    "midi_test, test_texts_splited = split_bar(midi_test, split_number, test_text)\n",
    "\n",
    "print(f\"総データ数{len(midi_train)+len(midi_val)+len(midi_test)}\")\n",
    "print(f\"trainデータ数{len(midi_train)}, valデータ数{len(midi_val)}, testデータ数{len(midi_test)}\")"
   ]
  },
  {
   "cell_type": "code",
   "execution_count": null,
   "metadata": {},
   "outputs": [
    {
     "name": "stderr",
     "output_type": "stream",
     "text": [
      "save to data/npy/jazz_1024_background_labeled/train: 100%|██████████| 1003/1003 [00:06<00:00, 144.95it/s]\n",
      "save to data/npy/jazz_1024_background_labeled/val: 100%|██████████| 152/152 [00:01<00:00, 144.11it/s]\n",
      "save to data/npy/jazz_1024_background_labeled/test: 100%|██████████| 74/74 [00:00<00:00, 143.81it/s]\n"
     ]
    }
   ],
   "source": [
    "#get save path\n",
    "folder_name = \"data/npy/jazz_1024_background_labeled\" \n",
    "train_dir = os.path.join(folder_name, \"train\")\n",
    "os.makedirs(train_dir, exist_ok=True)\n",
    "val_dir = os.path.join(folder_name, \"val\")\n",
    "os.makedirs(val_dir, exist_ok=True)\n",
    "test_dir = os.path.join(folder_name, \"test\")\n",
    "os.makedirs(test_dir, exist_ok=True)\n",
    "\n",
    "#save data\n",
    "save_data(midi_train, train_texts_splited, train_dir)\n",
    "save_data(midi_val, val_texts_splited, val_dir)\n",
    "save_data(midi_test, test_texts_splited, test_dir)"
   ]
  }
 ],
 "metadata": {
  "kernelspec": {
   "display_name": "Python 3",
   "language": "python",
   "name": "python3"
  },
  "language_info": {
   "codemirror_mode": {
    "name": "ipython",
    "version": 3
   },
   "file_extension": ".py",
   "mimetype": "text/x-python",
   "name": "python",
   "nbconvert_exporter": "python",
   "pygments_lexer": "ipython3",
   "version": "3.10.12"
  }
 },
 "nbformat": 4,
 "nbformat_minor": 4
}
