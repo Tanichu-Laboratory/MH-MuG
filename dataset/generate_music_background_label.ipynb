{
 "cells": [
  {
   "cell_type": "markdown",
   "metadata": {},
   "source": [
    "# Generate music background label from song title"
   ]
  },
  {
   "cell_type": "code",
   "execution_count": 1,
   "metadata": {},
   "outputs": [],
   "source": [
    "import openai\n",
    "from tqdm import tqdm\n",
    "import os"
   ]
  },
  {
   "cell_type": "code",
   "execution_count": null,
   "metadata": {},
   "outputs": [],
   "source": [
    "def set_openai_key():\n",
    "    \"\"\"\n",
    "    params\n",
    "    ---------\n",
    "    key: str\n",
    "        OpenAI API key\n",
    "    \"\"\"\n",
    "    openai.api_key = \"\"\n",
    "\n",
    "def get_cultural_background(title=\"Canon in D major\"):\n",
    "    \"\"\"\n",
    "    get cultural background of the song\n",
    "\n",
    "    params\n",
    "    ---------\n",
    "    title: str\n",
    "        song title\n",
    "    \"\"\"\n",
    "    set_openai_key()\n",
    "    prompt = f\"Provide a cultural background for the classical music piece titled '{title}' in 50 words or less.\\\n",
    "    do not include title itself in the response.\"\n",
    "    response = openai.ChatCompletion.create(\n",
    "            model=\"gpt-4o\",\n",
    "            messages=[\n",
    "                {\"role\": \"system\", \"content\": \"You are a helpful assistant.\"},\n",
    "                {\"role\": \"user\", \"content\": prompt}\n",
    "            ],\n",
    "            max_tokens=70,\n",
    "            temperature=0,\n",
    "    )\n",
    "    annotation = response.choices[0].message['content'].strip()\n",
    "    return annotation"
   ]
  },
  {
   "cell_type": "code",
   "execution_count": 8,
   "metadata": {},
   "outputs": [],
   "source": [
    "#get song titles\n",
    "titles_path = \"midi/jazz/music_title_jazz.txt\"\n",
    "with open(titles_path, \"r\") as f:\n",
    "    titles = f.readlines()\n",
    "    titles = [title.strip().replace(\"_\", \" \") for title in titles]"
   ]
  },
  {
   "cell_type": "code",
   "execution_count": 9,
   "metadata": {},
   "outputs": [
    {
     "name": "stderr",
     "output_type": "stream",
     "text": [
      "100%|██████████| 100/100 [02:09<00:00,  1.29s/it]\n"
     ]
    }
   ],
   "source": [
    "# get cultural background of the songs\n",
    "annotations = []\n",
    "for title in tqdm(titles):\n",
    "    annotation = get_cultural_background(title)\n",
    "    annotations.append(annotation)"
   ]
  },
  {
   "cell_type": "code",
   "execution_count": 10,
   "metadata": {},
   "outputs": [
    {
     "name": "stdout",
     "output_type": "stream",
     "text": [
      "saved annotations to data/labels/cultural_background/jazz.txt\n"
     ]
    }
   ],
   "source": [
    "# save annotations\n",
    "annotation_dir = \"data/labels/cultural_background\"\n",
    "os.makedirs(annotation_dir, exist_ok=True)\n",
    "annotation_path = os.path.join(annotation_dir, \"jazz.txt\")\n",
    "with open(annotation_path, \"w\") as f:\n",
    "    for annotation in annotations:\n",
    "        f.write(annotation + \"\\n\")\n",
    "print(f\"saved annotations to {annotation_path}\")"
   ]
  }
 ],
 "metadata": {
  "kernelspec": {
   "display_name": "Python 3",
   "language": "python",
   "name": "python3"
  },
  "language_info": {
   "codemirror_mode": {
    "name": "ipython",
    "version": 3
   },
   "file_extension": ".py",
   "mimetype": "text/x-python",
   "name": "python",
   "nbconvert_exporter": "python",
   "pygments_lexer": "ipython3",
   "version": "3.10.12"
  }
 },
 "nbformat": 4,
 "nbformat_minor": 2
}
